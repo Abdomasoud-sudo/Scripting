{
 "cells": [
  {
   "cell_type": "markdown",
   "metadata": {},
   "source": [
    "# List"
   ]
  },
  {
   "cell_type": "code",
   "execution_count": 10,
   "metadata": {},
   "outputs": [
    {
     "name": "stdout",
     "output_type": "stream",
     "text": [
      "0\n"
     ]
    }
   ],
   "source": [
    "import os\n",
    "my_files = os.listdir('/workspaces/Scripting')\n",
    "\n",
    "# my_files.insert(2, 'de7k.py')\n",
    "print(my_files.index('scripting'))\n"
   ]
  },
  {
   "cell_type": "markdown",
   "metadata": {},
   "source": [
    "# Dictionary"
   ]
  },
  {
   "cell_type": "code",
   "execution_count": 27,
   "metadata": {},
   "outputs": [
    {
     "name": "stdout",
     "output_type": "stream",
     "text": [
      "['Abdo Masoud', 24, '01060', 'abdo@gmail']\n"
     ]
    }
   ],
   "source": [
    "contacts = {\"name\": \"Abdo Masoud\", \"age\": 24, \"number\": \"01060\", \"email\": 'abdo@gmail'}\n",
    "\n",
    "myinfo = contacts.values()\n",
    "print(list(myinfo))"
   ]
  },
  {
   "cell_type": "markdown",
   "metadata": {},
   "source": [
    "## Tuple"
   ]
  },
  {
   "cell_type": "code",
   "execution_count": 28,
   "metadata": {},
   "outputs": [
    {
     "data": {
      "text/plain": [
       "tuple"
      ]
     },
     "execution_count": 28,
     "metadata": {},
     "output_type": "execute_result"
    }
   ],
   "source": [
    "\n",
    "week = ('sunday', 'monday', 'friday')\n",
    "\n",
    "# can't edit\n",
    "\n",
    "type(week)"
   ]
  },
  {
   "cell_type": "markdown",
   "metadata": {},
   "source": [
    "## Set"
   ]
  },
  {
   "cell_type": "code",
   "execution_count": 31,
   "metadata": {},
   "outputs": [
    {
     "data": {
      "text/plain": [
       "{'apple', 'chicken', 'meat'}"
      ]
     },
     "execution_count": 31,
     "metadata": {},
     "output_type": "execute_result"
    }
   ],
   "source": [
    "# Unique values only no repetation\n",
    "my_food = {'apple', 'meat', 'chicken', 'chicken'}\n",
    "my_food\n",
    "# type(my_food)"
   ]
  },
  {
   "cell_type": "code",
   "execution_count": 47,
   "metadata": {},
   "outputs": [
    {
     "name": "stdout",
     "output_type": "stream",
     "text": [
      "['python', 'Terform', 'Jenkins', 'GitHub Actions', 'DevOps']\n",
      "1 I have experience in: python\n",
      "2 I have experience in: SQL\n",
      "3 I have experience in: Terform\n",
      "4 I have experience in: Jenkins\n",
      "5 I have experience in: GitHub Actions\n",
      "6 I have experience in: DevOps\n"
     ]
    }
   ],
   "source": [
    "listing = [x for x in range(0, 11, 2)]\n",
    "listing\n",
    "\n",
    "my_skills = [\"python\", \"SQL\", \"Terform\", \"Jenkins\", \"GitHub Actions\", \"DevOps\"]\n",
    "top_skills = [x for x in my_skills if len(x) > 4]\n",
    "print(top_skills)\n",
    "for count, skill in enumerate(my_skills):\n",
    "    print(count + 1, \"I have experience in:\", skill)"
   ]
  },
  {
   "cell_type": "code",
   "execution_count": 63,
   "metadata": {},
   "outputs": [
    {
     "name": "stdout",
     "output_type": "stream",
     "text": [
      "DevOps\n",
      "Ansible\n",
      "GITHUB Actions\n"
     ]
    }
   ],
   "source": [
    "skills = {\"DevOps\": 58, \"Ansible\": 75, \"GITHUB Actions\": 99, \"Jenkins\": 33}\n",
    "\n",
    "for skill, gpa in skills.items():\n",
    "    if gpa > 50:\n",
    "        print(skill)\n",
    "        "
   ]
  },
  {
   "cell_type": "markdown",
   "metadata": {},
   "source": [
    "# Reading and Manipulating files"
   ]
  },
  {
   "cell_type": "code",
   "execution_count": null,
   "metadata": {},
   "outputs": [],
   "source": [
    "sql_file = open('populate.sql')\n",
    "print(sql_file.read())\n",
    "sql_file.close()"
   ]
  },
  {
   "cell_type": "code",
   "execution_count": 10,
   "metadata": {},
   "outputs": [],
   "source": [
    "# Using context manager (with) automatically close the file\n",
    "\n",
    "with open('populate.sql') as sql_file:\n",
    "    sql_content = sql_file.read()\n",
    "    # print(sql_content)\n"
   ]
  },
  {
   "cell_type": "code",
   "execution_count": 17,
   "metadata": {},
   "outputs": [],
   "source": [
    "import pandas as pd\n",
    "\n",
    "df = pd.read_csv('data.csv')\n",
    "\n",
    "# print(df.head())"
   ]
  },
  {
   "cell_type": "code",
   "execution_count": 23,
   "metadata": {},
   "outputs": [
    {
     "name": "stdout",
     "output_type": "stream",
     "text": [
      "{'orders': [{'id': 'ORD-1001', 'date': '2024-12-01', 'customer': {'name': 'John Smith', 'email': 'john.smith@email.com', 'address': {'street': '123 Main St', 'city': 'Boston', 'state': 'MA', 'zip': '02108'}}, 'items': [{'product': 'Gaming Laptop', 'quantity': 1, 'unit_price': 1299.99, 'total': 1299.99}], 'payment': {'method': 'Credit Card', 'status': 'Completed', 'transaction_id': 'TXN-78901'}, 'shipping': {'status': 'Delivered', 'tracking_number': 'TR-12345', 'carrier': 'FedEx'}}, {'id': 'ORD-1002', 'date': '2024-12-02', 'customer': {'name': 'Sarah Johnson', 'email': 'sarah.j@email.com', 'address': {'street': '456 Oak Avenue', 'city': 'Chicago', 'state': 'IL', 'zip': '60601'}}, 'items': [{'product': 'Wireless Mouse', 'quantity': 2, 'unit_price': 29.99, 'total': 59.98}, {'product': 'Mouse Pad', 'quantity': 1, 'unit_price': 14.99, 'total': 14.99}], 'payment': {'method': 'PayPal', 'status': 'Completed', 'transaction_id': 'TXN-78902'}, 'shipping': {'status': 'In Transit', 'tracking_number': 'TR-12346', 'carrier': 'UPS'}}, {'id': 'ORD-1003', 'date': '2024-12-03', 'customer': {'name': 'Michael Brown', 'email': 'm.brown@email.com', 'address': {'street': '789 Pine Road', 'city': 'Seattle', 'state': 'WA', 'zip': '98101'}}, 'items': [{'product': '4K Monitor', 'quantity': 1, 'unit_price': 399.99, 'total': 399.99}], 'payment': {'method': 'Credit Card', 'status': 'Completed', 'transaction_id': 'TXN-78903'}, 'shipping': {'status': 'Processing', 'tracking_number': 'TR-12347', 'carrier': 'DHL'}}, {'id': 'ORD-1004', 'date': '2024-12-04', 'customer': {'name': 'Emma Davis', 'email': 'emma.d@email.com', 'address': {'street': '321 Elm Street', 'city': 'Austin', 'state': 'TX', 'zip': '73301'}}, 'items': [{'product': 'Mechanical Keyboard', 'quantity': 1, 'unit_price': 89.99, 'total': 89.99}, {'product': 'Wrist Rest', 'quantity': 1, 'unit_price': 19.99, 'total': 19.99}], 'payment': {'method': 'Debit Card', 'status': 'Completed', 'transaction_id': 'TXN-78904'}, 'shipping': {'status': 'Delivered', 'tracking_number': 'TR-12348', 'carrier': 'FedEx'}}, {'id': 'ORD-1005', 'date': '2024-12-05', 'customer': {'name': 'James Wilson', 'email': 'j.wilson@email.com', 'address': {'street': '567 Maple Drive', 'city': 'Denver', 'state': 'CO', 'zip': '80201'}}, 'items': [{'product': 'USB-C Hub', 'quantity': 3, 'unit_price': 49.99, 'total': 149.97}], 'payment': {'method': 'PayPal', 'status': 'Completed', 'transaction_id': 'TXN-78905'}, 'shipping': {'status': 'Delivered', 'tracking_number': 'TR-12349', 'carrier': 'UPS'}}], 'metadata': {'total_orders': 5, 'generated_date': '2024-12-30', 'version': '1.0'}}\n"
     ]
    }
   ],
   "source": [
    "import json\n",
    "with open('data.json') as json_file:\n",
    "    py_dic = json.load(json_file)\n",
    "    print(py_dic)\n",
    "    \n"
   ]
  },
  {
   "cell_type": "code",
   "execution_count": 27,
   "metadata": {},
   "outputs": [],
   "source": [
    "# create json api from python dictionary\n",
    "\n",
    "dic_py = {'orders': [{'id': 'ORD-1001', 'date': '2024-12-01', 'customer': {'name': 'John Smith', 'email': 'john.smith@email.com', 'address': {'street': '123 Main St', 'city': 'Boston', 'state': 'MA', 'zip': '02108'}}, 'items': [{'product': 'Gaming Laptop', 'quantity': 1, 'unit_price': 1299.99, 'total': 1299.99}], 'payment': {'method': 'Credit Card', 'status': 'Completed', 'transaction_id': 'TXN-78901'}, 'shipping': {'status': 'Delivered', 'tracking_number': 'TR-12345', 'carrier': 'FedEx'}}, {'id': 'ORD-1002', 'date': '2024-12-02', 'customer': {'name': 'Sarah Johnson', 'email': 'sarah.j@email.com', 'address': {'street': '456 Oak Avenue', 'city': 'Chicago', 'state': 'IL', 'zip': '60601'}}, 'items': [{'product': 'Wireless Mouse', 'quantity': 2, 'unit_price': 29.99, 'total': 59.98}, {'product': 'Mouse Pad', 'quantity': 1, 'unit_price': 14.99, 'total': 14.99}], 'payment': {'method': 'PayPal', 'status': 'Completed', 'transaction_id': 'TXN-78902'}, 'shipping': {'status': 'In Transit', 'tracking_number': 'TR-12346', 'carrier': 'UPS'}}, {'id': 'ORD-1003', 'date': '2024-12-03', 'customer': {'name': 'Michael Brown', 'email': 'm.brown@email.com', 'address': {'street': '789 Pine Road', 'city': 'Seattle', 'state': 'WA', 'zip': '98101'}}, 'items': [{'product': '4K Monitor', 'quantity': 1, 'unit_price': 399.99, 'total': 399.99}], 'payment': {'method': 'Credit Card', 'status': 'Completed', 'transaction_id': 'TXN-78903'}, 'shipping': {'status': 'Processing', 'tracking_number': 'TR-12347', 'carrier': 'DHL'}}, {'id': 'ORD-1004', 'date': '2024-12-04', 'customer': {'name': 'Emma Davis', 'email': 'emma.d@email.com', 'address': {'street': '321 Elm Street', 'city': 'Austin', 'state': 'TX', 'zip': '73301'}}, 'items': [{'product': 'Mechanical Keyboard', 'quantity': 1, 'unit_price': 89.99, 'total': 89.99}, {'product': 'Wrist Rest', 'quantity': 1, 'unit_price': 19.99, 'total': 19.99}], 'payment': {'method': 'Debit Card', 'status': 'Completed', 'transaction_id': 'TXN-78904'}, 'shipping': {'status': 'Delivered', 'tracking_number': 'TR-12348', 'carrier': 'FedEx'}}, {'id': 'ORD-1005', 'date': '2024-12-05', 'customer': {'name': 'James Wilson', 'email': 'j.wilson@email.com', 'address': {'street': '567 Maple Drive', 'city': 'Denver', 'state': 'CO', 'zip': '80201'}}, 'items': [{'product': 'USB-C Hub', 'quantity': 3, 'unit_price': 49.99, 'total': 149.97}], 'payment': {'method': 'PayPal', 'status': 'Completed', 'transaction_id': 'TXN-78905'}, 'shipping': {'status': 'Delivered', 'tracking_number': 'TR-12349', 'carrier': 'UPS'}}], 'metadata': {'total_orders': 5, 'generated_date': '2024-12-30', 'version': '1.0'}}\n",
    "\n",
    "with open('api.json', 'w') as restapi:\n",
    "    json.dump(dic_py, restapi)\n",
    "\n"
   ]
  }
 ],
 "metadata": {
  "kernelspec": {
   "display_name": "Python 3",
   "language": "python",
   "name": "python3"
  },
  "language_info": {
   "codemirror_mode": {
    "name": "ipython",
    "version": 3
   },
   "file_extension": ".py",
   "mimetype": "text/x-python",
   "name": "python",
   "nbconvert_exporter": "python",
   "pygments_lexer": "ipython3",
   "version": "3.12.1"
  }
 },
 "nbformat": 4,
 "nbformat_minor": 2
}
